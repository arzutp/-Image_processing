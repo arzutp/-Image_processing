{
 "cells": [
  {
   "cell_type": "code",
   "execution_count": null,
   "metadata": {},
   "outputs": [],
   "source": [
    "import matplotlib.pyplot as plt\n",
    "import numpy as np\n",
    "import os\n",
    "from skimage.transform import resize"
   ]
  },
  {
   "cell_type": "code",
   "execution_count": null,
   "metadata": {},
   "outputs": [],
   "source": [
    "def get_all_folders_in_path(path_=\"\"):\n",
    "    my_folders=[folder for folder in os.listdir(path_) if os.path.isdir(path_ + '\\\\'+str(folder))]    \n",
    "    return my_folders"
   ]
  },
  {
   "cell_type": "code",
   "execution_count": null,
   "metadata": {},
   "outputs": [],
   "source": [
    "def get_all_files_in_folder(path_=\"\"):\n",
    "    my_files=[file for file in os.listdir(path_) if os.path.isfile(path_ + '\\\\'+str(file))]\n",
    "    return my_files"
   ]
  },
  {
   "cell_type": "code",
   "execution_count": null,
   "metadata": {},
   "outputs": [],
   "source": [
    "def get_my_files(data_folder_1):\n",
    "    #data_folder_1=r\"C:\\\\Users\\\\ikahraman\\\\lab_files_for_courses_synch_with_github\\\\data_signature\\\\987654321\\\\\"\n",
    "    files=get_all_files_in_folder(data_folder_1)\n",
    "    return files"
   ]
  },
  {
   "cell_type": "code",
   "execution_count": null,
   "metadata": {},
   "outputs": [],
   "source": [
    "def convert_rgb_to_bw(im_rbg):\n",
    "    \n",
    "        im_rbg=im_rbg/np.max(im_rbg)\n",
    "\n",
    "        m=im_rbg.shape[0]\n",
    "        n=im_rbg.shape[1]\n",
    "        \n",
    "        my_new_image=np.zeros((m,n),dtype=int)\n",
    "        my_new_image=my_new_image+1\n",
    "\n",
    "        for row in range(m):\n",
    "            for column in range(n):\n",
    "                s=im_rbg[row,column,0]/3+im_rbg[row,column,1]/3+im_rbg[row,column,2]/3\n",
    "                diff_to_0=s-0\n",
    "                diff_to_1=np.abs(1-diff_to_0)\n",
    "\n",
    "                if diff_to_0<diff_to_1:\n",
    "                    my_new_image[row,column]=0\n",
    "                else:    \n",
    "                    my_new_image[row,column]=1\n",
    "\n",
    "        return my_new_image"
   ]
  },
  {
   "cell_type": "code",
   "execution_count": null,
   "metadata": {},
   "outputs": [],
   "source": [
    "def get_MBR_from_a_bwImage(im_bw):\n",
    "    m,n=im_bw.shape[0],im_bw.shape[1]   \n",
    "    smallest_m=m   \n",
    "    biggest_m=0    \n",
    "    for i in range(m):\n",
    "        for j in range(n):\n",
    "            intensity=im_bw[i,j]\n",
    "            if (intensity==0 and i<smallest_m):\n",
    "                smallest_m=i\n",
    "            if (intensity==0 and i>biggest_m):\n",
    "                biggest_m=i\n",
    "\n",
    "    # for smallest biggest n\n",
    "    smallest_n=n\n",
    "    biggest_n=0\n",
    "    for i in range(m):\n",
    "        for j in range(n):\n",
    "            intensity=im_bw[i,j]\n",
    "            if (intensity==0 and j<smallest_n):\n",
    "                smallest_n=j\n",
    "            if (intensity==0 and j>biggest_n):\n",
    "                biggest_n=j\n",
    "    smallest_n,biggest_n\n",
    "    smallest_m,biggest_m\n",
    "\n",
    "    m1,m2,n1,n2=smallest_m,biggest_m,smallest_n,biggest_n\n",
    "\n",
    "    return m1,m2,n1,n2"
   ]
  },
  {
   "cell_type": "code",
   "execution_count": null,
   "metadata": {},
   "outputs": [],
   "source": [
    "def crop_an_image_by_new_mn(im_bw,mbr):\n",
    "    \n",
    "    m1,m2,n1,n2=mbr[0],mbr[1],mbr[2],mbr[3]\n",
    "    \n",
    "    m,n=m2-m1,n2-n1\n",
    "    my_new_image=np.zeros((m,n),dtype=int)\n",
    "    my_new_image=im_bw[m1:m2+1,n1:n2+1]\n",
    "    \n",
    "    return my_new_image"
   ]
  },
  {
   "cell_type": "code",
   "execution_count": null,
   "metadata": {},
   "outputs": [],
   "source": [
    "def my_crop_process():\n",
    "    datafolder=r\"C:\\\\Users\\\\arzut\\\\Downloads\\\\170401008\\\\\"\n",
    "    files = get_all_files_in_folder(datafolder)    \n",
    "    for file in files:\n",
    "        fullfilename=datafolder+\"\\\\\"+file\n",
    "        im1=plt.imread(fullfilename)\n",
    "\n",
    "        im2=convert_rgb_to_bw(im1)\n",
    "\n",
    "        mbr=get_MBR_from_a_bwImage(im2)\n",
    "\n",
    "        im3=crop_an_image_by_new_mn(im2,mbr)\n",
    "        \n",
    "        size=(200,200)\n",
    "        im4=resize(im3,size)\n",
    "\n",
    "        #plt.subplot(1,3,1),plt.imshow(im1)\n",
    "        #plt.subplot(1,3,2),plt.imshow(im2,cmap='gray')\n",
    "        #plt.subplot(1,3,3),plt.imshow(im3,cmap='gray')\n",
    "        #plt.show()\n",
    "\n",
    "        i=len(file)-5\n",
    "        fname=file[0:-5]+\"_cropped\"+file[i:]\n",
    "        fullfilename=datafolder+\"\\\\\"+fname\n",
    "\n",
    "        plt.imsave(fullfilename,im4,cmap='gray')"
   ]
  },
  {
   "cell_type": "code",
   "execution_count": null,
   "metadata": {},
   "outputs": [],
   "source": [
    "def crop_and_return_min_mn_for_a_folder(folder_name):\n",
    "    # for resize \n",
    "    min_m_for_all,min_n_for_all=0,0\n",
    "    files=get_all_files_in_folder(folder_name)\n",
    "    i=0\n",
    "    for file in files:\n",
    "        full_file_name=folder_name+\"\\\\\"+file\n",
    "        print(file,end=\" \" )\n",
    "        # print(full_file_name)\n",
    "\n",
    "        try:\n",
    "\n",
    "            im_rgb=plt.imread(full_file_name)\n",
    "            im_bw=convert_rgb_to_bw(im_rgb)\n",
    "            mbr=get_MBR_from_a_bwImage(im_bw)\n",
    "            im_bw_cropped=crop_an_image_by_new_mn(im_bw,mbr)\n",
    "            if(i==0):\n",
    "\n",
    "                min_m_for_all,min_n_for_all=im_bw_cropped.shape\n",
    "            else:\n",
    "                if (min_m_for_all>im_bw_cropped.shape[0]):\n",
    "                    min_m_for_all=im_bw_cropped.shape[0]\n",
    "                if (min_n_for_all>im_bw_cropped.shape[1]):\n",
    "                    min_n_for_all=im_bw_cropped.shape[1]\n",
    "\n",
    "            new_file_name=file[0:-4] + \"_cropped\" + file[-4:]\n",
    "            full_file_name=new_path+\"\\\\\"+new_file_name\n",
    "            plt.imsave(full_file_name,im_bw_cropped,cmap='gray')\n",
    "            # print(new_file_name)\n",
    "        except:\n",
    "            print(\"error in \"+file)\n",
    "    print(\" finished ...\")\n",
    "\n",
    "    return min_m_for_all,min_n_for_all"
   ]
  },
  {
   "cell_type": "code",
   "execution_count": null,
   "metadata": {},
   "outputs": [],
   "source": [
    "my_crop_process()"
   ]
  },
  {
   "cell_type": "code",
   "execution_count": null,
   "metadata": {},
   "outputs": [],
   "source": []
  },
  {
   "cell_type": "code",
   "execution_count": null,
   "metadata": {},
   "outputs": [],
   "source": []
  },
  {
   "cell_type": "code",
   "execution_count": null,
   "metadata": {},
   "outputs": [],
   "source": []
  }
 ],
 "metadata": {
  "kernelspec": {
   "display_name": "Python 3",
   "language": "python",
   "name": "python3"
  },
  "language_info": {
   "codemirror_mode": {
    "name": "ipython",
    "version": 3
   },
   "file_extension": ".py",
   "mimetype": "text/x-python",
   "name": "python",
   "nbconvert_exporter": "python",
   "pygments_lexer": "ipython3",
   "version": "3.8.3"
  }
 },
 "nbformat": 4,
 "nbformat_minor": 4
}
