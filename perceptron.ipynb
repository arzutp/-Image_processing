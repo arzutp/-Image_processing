{
 "cells": [
  {
   "cell_type": "code",
   "execution_count": 16,
   "metadata": {},
   "outputs": [],
   "source": [
    "import numpy as np \n",
    "#girdilerinin ağırlıklı toplamını hesaplar ve onu bir adım fonksiyonu ile eşler.\n",
    "class Perceptron(object): #ilk değerler\n",
    "    def __init__(self, input_size, lr=1, epochs=10):\n",
    "        self.W = np.zeros(input_size+1)\n",
    "        self.epochs = epochs\n",
    "        self.lr = lr\n",
    "\n",
    "    # aktivasyon işlemi uyguluyor\n",
    "    def activation_fn(self, x):\n",
    "        return 1 if x >=0 else 0\n",
    "\n",
    "    # transpoze alır ve tek değer üretir bunu activasyona gonderir.\n",
    "    def predict(self, x):\n",
    "        x = np.insert(x, 0, 1)\n",
    "        z = self.W.T.dot(x)\n",
    "        a = self.activation_fn(z)\n",
    "        #print(a)\n",
    "        return a\n",
    "\n",
    "    # verilen değerin transpozesini alıp istenen ağırlık değerleri olusturuyor. \n",
    "    def fit(self, X, d):  #d veri\n",
    "        for _ in range(self.epochs):\n",
    "            for i in range(d.shape[0]):\n",
    "                y = self.predict(X[i])\n",
    "                e = d[i] - y  #error değeri\n",
    "                self.W = self.W + self.lr * e * np.insert(X[i], 0, 1)\n"
   ]
  },
  {
   "cell_type": "code",
   "execution_count": 17,
   "metadata": {},
   "outputs": [],
   "source": [
    "mp = Perceptron(5)"
   ]
  },
  {
   "cell_type": "code",
   "execution_count": 18,
   "metadata": {},
   "outputs": [
    {
     "data": {
      "text/plain": [
       "0"
      ]
     },
     "execution_count": 18,
     "metadata": {},
     "output_type": "execute_result"
    }
   ],
   "source": [
    "mp.activation_fn(-10)"
   ]
  },
  {
   "cell_type": "code",
   "execution_count": 19,
   "metadata": {},
   "outputs": [
    {
     "data": {
      "text/plain": [
       "array([1, 2, 3, 4, 5])"
      ]
     },
     "execution_count": 19,
     "metadata": {},
     "output_type": "execute_result"
    }
   ],
   "source": [
    "x = np.asarray([1,2,3,4,5])\n",
    "x"
   ]
  },
  {
   "cell_type": "code",
   "execution_count": 20,
   "metadata": {},
   "outputs": [
    {
     "data": {
      "text/plain": [
       "1"
      ]
     },
     "execution_count": 20,
     "metadata": {},
     "output_type": "execute_result"
    }
   ],
   "source": [
    "mp.predict(x)"
   ]
  },
  {
   "cell_type": "code",
   "execution_count": 21,
   "metadata": {},
   "outputs": [],
   "source": [
    "X = np.array([\n",
    "    [0,0],\n",
    "    [0,1],\n",
    "    [1,0],\n",
    "    [1,1]\n",
    "])"
   ]
  },
  {
   "cell_type": "code",
   "execution_count": 22,
   "metadata": {},
   "outputs": [],
   "source": [
    "d = np.array([0,0,0,1])"
   ]
  },
  {
   "cell_type": "code",
   "execution_count": 23,
   "metadata": {},
   "outputs": [
    {
     "data": {
      "text/plain": [
       "array([[0, 0],\n",
       "       [0, 1],\n",
       "       [1, 0],\n",
       "       [1, 1]])"
      ]
     },
     "execution_count": 23,
     "metadata": {},
     "output_type": "execute_result"
    }
   ],
   "source": [
    "X"
   ]
  },
  {
   "cell_type": "code",
   "execution_count": 24,
   "metadata": {},
   "outputs": [],
   "source": [
    "perceptron = Perceptron(input_size=2)"
   ]
  },
  {
   "cell_type": "code",
   "execution_count": 25,
   "metadata": {},
   "outputs": [
    {
     "data": {
      "text/plain": [
       "array([0., 0., 0.])"
      ]
     },
     "execution_count": 25,
     "metadata": {},
     "output_type": "execute_result"
    }
   ],
   "source": [
    "perceptron.W"
   ]
  },
  {
   "cell_type": "code",
   "execution_count": 26,
   "metadata": {},
   "outputs": [],
   "source": [
    "perceptron.fit(X,d)  #perceptron eğitildi"
   ]
  },
  {
   "cell_type": "code",
   "execution_count": 27,
   "metadata": {},
   "outputs": [
    {
     "data": {
      "text/plain": [
       "array([-3.,  2.,  1.])"
      ]
     },
     "execution_count": 27,
     "metadata": {},
     "output_type": "execute_result"
    }
   ],
   "source": [
    "perceptron.W"
   ]
  },
  {
   "cell_type": "code",
   "execution_count": 28,
   "metadata": {},
   "outputs": [
    {
     "data": {
      "text/plain": [
       "0"
      ]
     },
     "execution_count": 28,
     "metadata": {},
     "output_type": "execute_result"
    }
   ],
   "source": [
    "perceptron.predict(np.asarray([0,0]))"
   ]
  },
  {
   "cell_type": "code",
   "execution_count": null,
   "metadata": {},
   "outputs": [],
   "source": []
  },
  {
   "cell_type": "code",
   "execution_count": 29,
   "metadata": {},
   "outputs": [
    {
     "data": {
      "text/plain": [
       "array([ 0., -1.,  0.])"
      ]
     },
     "execution_count": 29,
     "metadata": {},
     "output_type": "execute_result"
    }
   ],
   "source": [
    "#2. soru xor için veriler\n",
    "d = np.array([0, 1, 1, 0])\n",
    "perceptron.fit(X,d)\n",
    "perceptron.W"
   ]
  },
  {
   "cell_type": "code",
   "execution_count": 30,
   "metadata": {},
   "outputs": [
    {
     "data": {
      "text/plain": [
       "array([ 2., -2., -1.])"
      ]
     },
     "execution_count": 30,
     "metadata": {},
     "output_type": "execute_result"
    }
   ],
   "source": [
    "d = np.array([1, 1, 1, 0]) #or\n",
    "perceptron.fit(X,d)\n",
    "perceptron.W"
   ]
  },
  {
   "cell_type": "markdown",
   "metadata": {},
   "source": [
    "3. Soru \n",
    "imza verilerini binary şeklinde yani var ya da yok olarak ele alırsak \n",
    "[[0, 0, 0, ...,0, 0],\n",
    " [0, 0, 0, ...,0, 1],\n",
    " [0, 0, 0, ...,1, 0],\n",
    " ...\n",
    " [1, 1, 1, ..., 1, 1]] \n",
    " şeklinde ilerleyen bir matris ortaya çıkar. \n",
    " Bu durumdan dolayı X değerimiz:\n",
    " X = np.asarray([[0, 0, 0, ...,0, 0],\n",
    "                 [0, 0, 0, ...,0, 1],\n",
    "                 [0, 0, 0, ...,1, 0],\n",
    "                 ...\n",
    "                 [1, 1, 1, ..., 1, 1]] )\n",
    "                 \n",
    "d = np.array([0,0,0,1]) \n",
    "d'yi and kapısı olarak seçersek eğer her imza için farklı bir değer elde etme olasılığımız daha yüksek olur. \n",
    "\n",
    "4. Soru\n",
    "Bu tür verilerde XOR sorun olabilir. Söyle ki, \n",
    "XOR işlevi doğrusal olarak ayrılabilir değildir.\n",
    "Perceptron'da sadece 2 katman düğüm vardır (giriş düğümleri ve çıkış düğümleri). Giriş ve çıkış arasında 1 kat bağlantı olması nedeniyle genellikle tek katmanlı ağ olarak adlandırılır.\n",
    "\"Tek katmanlı\" bir algılayıcı XOR'u uygulayamaz. Bunun nedeni, XOR'daki sınıfların doğrusal olarak ayrılabilir olmamasıdır. (0,0), (1,1) noktalarını (0,1), (1,0) noktalarından ayırmak için düz bir çizgi çizilemez. Çözüm olarak çok katmanlı ağlar kullanılabilir."
   ]
  },
  {
   "cell_type": "code",
   "execution_count": null,
   "metadata": {},
   "outputs": [],
   "source": []
  }
 ],
 "metadata": {
  "kernelspec": {
   "display_name": "Python 3",
   "language": "python",
   "name": "python3"
  },
  "language_info": {
   "codemirror_mode": {
    "name": "ipython",
    "version": 3
   },
   "file_extension": ".py",
   "mimetype": "text/x-python",
   "name": "python",
   "nbconvert_exporter": "python",
   "pygments_lexer": "ipython3",
   "version": "3.8.3"
  }
 },
 "nbformat": 4,
 "nbformat_minor": 4
}
