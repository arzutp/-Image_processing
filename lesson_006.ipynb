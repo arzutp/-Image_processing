{
 "cells": [
  {
   "cell_type": "code",
   "execution_count": 1,
   "metadata": {},
   "outputs": [],
   "source": [
    "import matplotlib.pyplot as plt\n",
    "import numpy as np\n",
    "# import math\n",
    "# from scipy.misc import imsave\n",
    "get_ipython().run_line_magic('matplotlib', 'inline')"
   ]
  },
  {
   "cell_type": "code",
   "execution_count": 2,
   "metadata": {},
   "outputs": [],
   "source": [
    "def my_f_and(l1,l2):\n",
    "    n=len(l1)\n",
    "    s=[]\n",
    "    for i in range(n):\n",
    "        a=l1[i] and l2[i]\n",
    "        s.append(a)\n",
    "    return s\n",
    "# def my_f1_and(l1):\n",
    "#     if 0 in l1:\n",
    "#         s1=0\n",
    "#     else:\n",
    "#         s1=1\n",
    "#     return s1\n",
    "def my_f1_AND_or_OR(l1,operator=0):\n",
    "    if operator :\n",
    "        if 1 in l1:\n",
    "            s1=1\n",
    "        else:\n",
    "            s1=0\n",
    "    else:\n",
    "        if 0 in l1:\n",
    "            s1=0\n",
    "        else:\n",
    "            s1=1       \n",
    "    return s1\n",
    "\n",
    "def my_f2_combine(l1,l2,op=0):\n",
    "    a=my_f_and(l1,l2)\n",
    "    return my_f1_AND_or_OR(a,op)"
   ]
  },
  {
   "cell_type": "code",
   "execution_count": 4,
   "metadata": {},
   "outputs": [
    {
     "data": {
      "text/plain": [
       "1"
      ]
     },
     "execution_count": 4,
     "metadata": {},
     "output_type": "execute_result"
    }
   ],
   "source": [
    "list1=[0,0,1,0,1] #mask\n",
    "list2=[1,1,1,1,1] #block\n",
    "imgOR=(list1[0] and list2[0]) or (list1[1] and list2[1]) or (list1[2] and list2[2])\n",
    "imgOR"
   ]
  },
  {
   "cell_type": "code",
   "execution_count": 6,
   "metadata": {},
   "outputs": [
    {
     "data": {
      "text/plain": [
       "[0, 0, 1, 0, 1]"
      ]
     },
     "execution_count": 6,
     "metadata": {},
     "output_type": "execute_result"
    }
   ],
   "source": [
    "a=my_f_and(list1,list2)\n",
    "a"
   ]
  },
  {
   "cell_type": "code",
   "execution_count": 7,
   "metadata": {},
   "outputs": [
    {
     "data": {
      "text/plain": [
       "0"
      ]
     },
     "execution_count": 7,
     "metadata": {},
     "output_type": "execute_result"
    }
   ],
   "source": [
    "my_f2_combine(list1,list2,0)"
   ]
  },
  {
   "cell_type": "code",
   "execution_count": 8,
   "metadata": {},
   "outputs": [],
   "source": [
    "def convert_RGB_to_monochrome_BW(image1,threshold=100):\n",
    "    img1=image1 #plt.imread(image1)\n",
    "    img2=np.zeros((img1.shape[0],img1.shape[1]))\n",
    "    for i in range(img2.shape[0]):\n",
    "        for j in range(img2.shape[1]):\n",
    "            if(img1[i,j,0]/3+img1[i,j,1]/3+img1[i,j,1]/3)>threshold:\n",
    "                img2[i,j]=0\n",
    "            else:\n",
    "                img2[i,j]=1\n",
    "    return img2"
   ]
  },
  {
   "cell_type": "code",
   "execution_count": 18,
   "metadata": {},
   "outputs": [
    {
     "data": {
      "image/png": "[encoded data removed]",
      "text/plain": [
       "<Figure size 432x288 with 1 Axes>"
      ]
     },
     "metadata": {
      "needs_background": "light"
     },
     "output_type": "display_data"
    }
   ],
   "source": [
    "filepath=u\"C:\\\\Users\\\\arzut\\\\OneDrive\\\\Masaüstü\\\\arkaplan\\\\images.png\"\n",
    "img1=plt.imread(filepath)\n",
    "\n",
    "img2=convert_RGB_to_monochrome_BW(img1,0.5)\n",
    "\n",
    "plt.subplot(1,2,1),plt.imshow(img1,cmap='gray')\n",
    "\n",
    "#plt.imshow(img1)\n",
    "plt.show()"
   ]
  },
  {
   "cell_type": "code",
   "execution_count": 19,
   "metadata": {},
   "outputs": [
    {
     "data": {
      "image/png": "[encoded data removed]",
      "text/plain": [
       "<Figure size 432x288 with 1 Axes>"
      ]
     },
     "metadata": {
      "needs_background": "light"
     },
     "output_type": "display_data"
    }
   ],
   "source": [
    "plt.subplot(1,2,2),plt.imshow(img2,cmap='gray')\n",
    "plt.show()"
   ]
  },
  {
   "cell_type": "code",
   "execution_count": 20,
   "metadata": {},
   "outputs": [
    {
     "data": {
      "text/plain": [
       "1.0"
      ]
     },
     "execution_count": 20,
     "metadata": {},
     "output_type": "execute_result"
    }
   ],
   "source": [
    "img1.shape\n",
    "np.max(img1)"
   ]
  },
  {
   "cell_type": "code",
   "execution_count": 21,
   "metadata": {},
   "outputs": [],
   "source": [
    "def define_mask1():\n",
    "    mask1=[[1,1,1],[1,1,1],[1,1,1]]\n",
    "    # mask,mask[1][2],mask[0][0],mask[2][2]\n",
    "    # for i in range(3):\n",
    "    #     for j in range(3):\n",
    "    #         print(mask[i][j],end=\" \")\n",
    "    #     print()\n",
    "    return mask1\n",
    "\n",
    "def define_mask2():\n",
    "    mask1=[[0,0,0],[0,0,0],[0,0,0]]\n",
    "    #mask,mask[1][2],mask[0][0],mask[2][2]\n",
    "    #for i in range(3):\n",
    "    #    for j in range(3):\n",
    "    #        print(mask[i][j],end=\" \")\n",
    "    #    print()\n",
    "    return mask1"
   ]
  },
  {
   "cell_type": "code",
   "execution_count": 22,
   "metadata": {},
   "outputs": [],
   "source": [
    "def my_dilation(img1,mask):\n",
    "    m=img1.shape[0] #100\n",
    "    n=img1.shape[1] #100\n",
    "    #img2=np.random.randint(0,1,(m,n))\n",
    "    img2=np.zeros((m,n),dtype='uint8')\n",
    "    for i in range(1,m-1): #padding\n",
    "        for j in range(1,n-1):\n",
    "            # x1=img1[i,j] or mask[1][1]\n",
    "            # \n",
    "            # x2=img1[i-1,j-1] or mask[0][0]\n",
    "            # x3=img1[i-1,j] or mask[0][1]\n",
    "            # x4=img1[i-1,j+1] or mask[0][2]\n",
    "            # \n",
    "            # x5=img1[i+1,j-1] or mask[2][0]\n",
    "            # x6=img1[i+1,j] or mask[2][1]\n",
    "            # x7=img1[i+1,j+1] or mask[2][2]\n",
    "            # \n",
    "            # x8=img1[i,j-1] or mask[1][0]\n",
    "            # x9=img1[i,j+1] or mask[1][2]\n",
    "            \n",
    "            x1=img1[i,j] == mask[1][1]\n",
    "            \n",
    "            x2=img1[i-1,j-1] == mask[0][0]\n",
    "            x3=img1[i-1,j] == mask[0][1]\n",
    "            x4=img1[i-1,j+1] == mask[0][2]\n",
    "            \n",
    "            x5=img1[i+1,j-1] == mask[2][0]\n",
    "            x6=img1[i+1,j] == mask[2][1]\n",
    "            x7=img1[i+1,j+1] == mask[2][2]\n",
    "            \n",
    "            x8=img1[i,j-1] == mask[1][0]\n",
    "            x9=img1[i,j+1] == mask[1][2]\n",
    "            \n",
    "            r1=x1 or x2 or x3 or x4 or x5\n",
    "            r2=x6 or x7 or x8 or x9\n",
    "            \n",
    "            r=r1 or r2 \n",
    "            \n",
    "            img2[i,j]=r\n",
    "    return img2\n"
   ]
  },
  {
   "cell_type": "code",
   "execution_count": 23,
   "metadata": {},
   "outputs": [
    {
     "data": {
      "image/png": "[encoded data removed]",
      "text/plain": [
       "<Figure size 720x720 with 3 Axes>"
      ]
     },
     "metadata": {
      "needs_background": "light"
     },
     "output_type": "display_data"
    }
   ],
   "source": [
    "img3=my_dilation(img2,define_mask1())\n",
    "img4=my_dilation(img3,define_mask1())\n",
    "img5=my_dilation(img4,define_mask1())\n",
    "\n",
    "plt.figure(figsize=(10,10))\n",
    "plt.subplot(1,3,1),plt.imshow(img1)\n",
    "plt.subplot(1,3,2),plt.imshow(img2,cmap='gray')\n",
    "plt.subplot(1,3,3),plt.imshow(img5,cmap='gray')\n",
    "plt.show()"
   ]
  },
  {
   "cell_type": "code",
   "execution_count": null,
   "metadata": {},
   "outputs": [],
   "source": []
  }
 ],
 "metadata": {
  "kernelspec": {
   "display_name": "Python 3",
   "language": "python",
   "name": "python3"
  },
  "language_info": {
   "codemirror_mode": {
    "name": "ipython",
    "version": 3
   },
   "file_extension": ".py",
   "mimetype": "text/x-python",
   "name": "python",
   "nbconvert_exporter": "python",
   "pygments_lexer": "ipython3",
   "version": "3.8.3"
  }
 },
 "nbformat": 4,
 "nbformat_minor": 4
}
