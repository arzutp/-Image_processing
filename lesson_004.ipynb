{
 "cells": [
  {
   "cell_type": "code",
   "execution_count": null,
   "metadata": {},
   "outputs": [],
   "source": [
    "import os\n",
    "os.getcwd()"
   ]
  },
  {
   "cell_type": "code",
   "execution_count": null,
   "metadata": {},
   "outputs": [],
   "source": [
    "path=r\"C:\\Users\\arzu\\deneme\"\n",
    "files_path=path+\"\\\\görüntü.jpg\"\n",
    "files_path"
   ]
  },
  {
   "cell_type": "code",
   "execution_count": null,
   "metadata": {},
   "outputs": [],
   "source": [
    "import matplotlib.pyplot as plt\n",
    "import numpy as np"
   ]
  },
  {
   "cell_type": "code",
   "execution_count": null,
   "metadata": {},
   "outputs": [],
   "source": [
    "img0=plt.imread(files_path)\n",
    "%matplotlib inline\n",
    "plt.imshow(img0)\n",
    "plt.show()"
   ]
  },
  {
   "cell_type": "code",
   "execution_count": null,
   "metadata": {},
   "outputs": [],
   "source": [
    "#max(img_0) #boyut fazla olduğunda hata verir\n",
    "np.max(img0)"
   ]
  },
  {
   "cell_type": "code",
   "execution_count": null,
   "metadata": {},
   "outputs": [],
   "source": [
    "img0.ndim,img0.shape"
   ]
  },
  {
   "cell_type": "code",
   "execution_count": null,
   "metadata": {},
   "outputs": [],
   "source": [
    "def convert_rgb_to_gray(im1):\n",
    "    m=im1.shape[0]\n",
    "    n=im1.shape[1]\n",
    "    im2=np.zeros((m,n))\n",
    "    for i in range(m):\n",
    "        for j in range(n):\n",
    "            im2[i,j]=get_distance(im1[i,j,:])\n",
    "    return im2\n",
    "def get_distance(v,w=[1/3,1/3,1/3]):\n",
    "    a,b,c=v[0],v[1],v[2]\n",
    "    w1,w2,w3=w[0],w[1],w[2]\n",
    "    d=((a**2)*w1 +\n",
    "      (b**2)*w2 +\n",
    "      (c**2)*w3)**.5\n",
    "    return d"
   ]
  },
  {
   "cell_type": "code",
   "execution_count": null,
   "metadata": {},
   "outputs": [],
   "source": [
    "def myf(a,b):\n",
    "    assert a>=0;\" intensity positive\", \"error intensity not positive\"\n",
    "    if(a<=255-b):\n",
    "        return a+b\n",
    "    else:\n",
    "        return 255\n",
    "myf(3,123)"
   ]
  },
  {
   "cell_type": "code",
   "execution_count": null,
   "metadata": {},
   "outputs": [],
   "source": [
    "img1=convert_rgb_to_gray(img0)\n",
    "plt.imshow(img1,cmap='gray')\n",
    "plt.show()"
   ]
  },
  {
   "cell_type": "code",
   "execution_count": null,
   "metadata": {},
   "outputs": [],
   "source": [
    "img1.ndim,img1.shape"
   ]
  },
  {
   "cell_type": "code",
   "execution_count": null,
   "metadata": {},
   "outputs": [],
   "source": [
    "m,n = img1.shape\n",
    "img2 = np.zeros((m,n),dtype=\"uint8\")"
   ]
  },
  {
   "cell_type": "code",
   "execution_count": null,
   "metadata": {},
   "outputs": [],
   "source": [
    "def myf2(a):\n",
    "    return int(255-a)\n",
    "myf2(255)"
   ]
  },
  {
   "cell_type": "code",
   "execution_count": null,
   "metadata": {},
   "outputs": [],
   "source": [
    "for i in range(m):\n",
    "    for j in range(n):\n",
    "        intensity=img1[i,j]\n",
    "        #increment=50\n",
    "        #print(intensity)\n",
    "        #img_2[i,j]=myf(intensity,increment)\n",
    "        img2[i,j]=myf2(intensity)\n"
   ]
  },
  {
   "cell_type": "code",
   "execution_count": null,
   "metadata": {},
   "outputs": [],
   "source": [
    "plt.subplot(2,2,1),plt.imshow(img0,cmap='gray')\n",
    "plt.subplot(2,2,2),plt.imshow(img1,cmap='gray')\n",
    "plt.subplot(2,2,3),plt.imshow(img2,cmap='gray')\n",
    "plt.show()"
   ]
  },
  {
   "cell_type": "code",
   "execution_count": null,
   "metadata": {},
   "outputs": [],
   "source": [
    "np.min(img2),np.max(img2)"
   ]
  },
  {
   "cell_type": "code",
   "execution_count": null,
   "metadata": {},
   "outputs": [],
   "source": [
    "x=np.array(list(range(100)))\n",
    "#y=np.array(list(range(100)))\n",
    "#y=np.sin(np.array(list(range(100))))\n",
    "#y=1/(1+np.exp(x))\n",
    "y1=np.power(x/float(np.max(x)),1)\n",
    "y2=np.power(x/float(np.max(x)),10)\n",
    "y3=np.power(x/float(np.max(x)),1/10)\n",
    "\n",
    "\n",
    "plt.plot(x,y1)\n",
    "plt.plot(x,y2)\n",
    "plt.plot(x,y3)"
   ]
  },
  {
   "cell_type": "code",
   "execution_count": null,
   "metadata": {},
   "outputs": [],
   "source": [
    "def myf3(img100,gamma):\n",
    "    return np.power(img100/float(np.max(img100)),gamma)\n",
    "\n",
    "img_110=myf3(img0,10)\n",
    "\n",
    "plt.imshow(img_110)\n",
    "plt.show()"
   ]
  },
  {
   "cell_type": "code",
   "execution_count": null,
   "metadata": {},
   "outputs": [],
   "source": []
  },
  {
   "cell_type": "code",
   "execution_count": null,
   "metadata": {},
   "outputs": [],
   "source": []
  }
 ],
 "metadata": {
  "kernelspec": {
   "display_name": "Python 3",
   "language": "python",
   "name": "python3"
  },
  "language_info": {
   "codemirror_mode": {
    "name": "ipython",
    "version": 3
   },
   "file_extension": ".py",
   "mimetype": "text/x-python",
   "name": "python",
   "nbconvert_exporter": "python",
   "pygments_lexer": "ipython3",
   "version": "3.8.3"
  }
 },
 "nbformat": 4,
 "nbformat_minor": 4
}
